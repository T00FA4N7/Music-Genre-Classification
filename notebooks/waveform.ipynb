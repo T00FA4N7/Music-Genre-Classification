{
 "cells": [
  {
   "cell_type": "code",
   "execution_count": 2,
   "metadata": {},
   "outputs": [],
   "source": [
    "import wave\n",
    "import struct\n",
    "import sys\n",
    "import os\n",
    "import librosa\n",
    "import soundfile as sf\n",
    "import pandas as pd\n",
    "import numpy as np\n",
    "\n"
   ]
  },
  {
   "cell_type": "code",
   "execution_count": 23,
   "metadata": {},
   "outputs": [
    {
     "name": "stdout",
     "output_type": "stream",
     "text": [
      "read 37987840 frames\n",
      "sampling rate:48000\n",
      "in the range -1.0 to 0.999969482421875\n",
      "read 8725332 frames\n",
      "sampling rate:22050\n",
      "in the range -1.0 to 0.999969482421875\n"
     ]
    }
   ],
   "source": [
    "def wav_to_floats(wave_file):\n",
    "    w = wave.open(wave_file)\n",
    "    astr = w.readframes(w.getnframes())\n",
    "    framerate = w.getframerate()\n",
    "    # convert binary chunks to short \n",
    "    a = struct.unpack(\"%ih\" % (w.getnframes()* w.getnchannels()), astr)\n",
    "    a = [float(val) / pow(2, 15) for val in a]\n",
    "    return a, framerate\n",
    "\n",
    "# read the wav file specified as first command line arg\n",
    "signal, framerate = wav_to_floats(\"../All_wavs/CreepingDeath.wav\")\n",
    "print(\"read \"+str(len(signal))+\" frames\")\n",
    "print(\"sampling rate:\" + str(framerate))\n",
    "print(\"in the range \"+str(min(signal))+\" to \"+str(max(signal)))\n",
    "signal, framerate = wav_to_floats(\"../preprocessed_wavs/CreepingDeath.wav\")\n",
    "print(\"read \"+str(len(signal))+\" frames\")\n",
    "print(\"sampling rate:\" + str(framerate))\n",
    "print(\"in the range \"+str(min(signal))+\" to \"+str(max(signal)))"
   ]
  },
  {
   "cell_type": "code",
   "execution_count": null,
   "metadata": {},
   "outputs": [],
   "source": [
    "import pandas as pd\n",
    "import re\n",
    "#cleans the lyrics\n",
    "def clean_lyrics(file_path, new_file_path):\n",
    "    df1 = pd.read_csv(file_path)\n",
    "    def clean_helper(lyrics):\n",
    "        if (lyrics == -1 or lyrics == '-1'): return -1\n",
    "        if lyrics.find('Lyrics') != -1:\n",
    "            lyrics = lyrics[lyrics.find(\"Lyrics\")+len('Lyrics'):]\n",
    "        lyrics = (re.sub(\"\\[.*?\\]\", '', lyrics))\n",
    "        lyrics = lyrics.replace('Embed', '')\n",
    "        lyrics = lyrics.replace('You might also like', '')\n",
    "        regex = re.compile('[^a-zA-Z0-9 \\n]')\n",
    "        lyrics = re.sub(regex, '', lyrics)\n",
    "        return lyrics.strip()\n",
    "    df1['Lyrics'] = df1['Lyrics'].apply(clean_helper)\n",
    "    df1.to_csv(new_file_path, index=False)\n"
   ]
  },
  {
   "cell_type": "code",
   "execution_count": 61,
   "metadata": {},
   "outputs": [
    {
     "name": "stdout",
     "output_type": "stream",
     "text": [
      "(661500,)\n",
      "(661500,)\n",
      "(661500,)\n",
      "(661500,)\n",
      "(661500,)\n",
      "(661500,)\n",
      "(661500,)\n",
      "(661500,)\n",
      "(661500,)\n",
      "(661500,)\n"
     ]
    }
   ],
   "source": [
    "#convert full sound wavs into 30 second 22050 htz wavs\n",
    "list_ = os.listdir(\"../All_wavs\")\n",
    "for i,val in enumerate(list_):\n",
    "    y, sr = librosa.load(f\"../All_wavs/{val}\", sr=22050)\n",
    "    #we just want 30 seconds of song data from each song, so we will pick the middle 30 seconds of the song\n",
    "    # we want the middle 661500 samples\n",
    "    sample_size = 661500\n",
    "    thirty_sec_song = y[(int)(y.size/2 - sample_size/2): (int)(y.size/2 + sample_size/2)]\n",
    "    print(thirty_sec_song.shape)\n",
    "    sf.write(f\"../30_second_wavs/{val}\", thirty_sec_song, samplerate =22050)\n"
   ]
  },
  {
   "cell_type": "code",
   "execution_count": 12,
   "metadata": {},
   "outputs": [],
   "source": [
    "#initialize the test_set with only the wavs\n",
    "columns = ['Artist', 'Sample_Rate', 'Wav']\n",
    "df = pd.DataFrame(columns=columns)\n",
    "list_ = os.listdir(\"../30_second_wavs\")\n",
    "for i,val in enumerate(list_):\n",
    "    y, sr = librosa.load(f\"../30_second_wavs/{val}\", sr=22050)\n",
    "    df = df._append({'Artist': val.split('.wav')[0], 'Sample_Rate': sr, 'Wav': [i for i in y]}, ignore_index=True)\n",
    "        \n",
    "df.to_csv('test_wavs.csv')\n",
    "\n"
   ]
  },
  {
   "cell_type": "code",
   "execution_count": 8,
   "metadata": {},
   "outputs": [],
   "source": [
    "#try to read back the wavs from the csv\n",
    "df1 = pd.read_csv(\"test_wavs.csv\")\n",
    "df2 = pd.read_csv(\"../test_set_cleaned.csv\")\n",
    "merged_df = pd.merge(df1, df2, on='Artist', how='outer')\n",
    "merged_df.to_csv('final_test_set.csv', index=False)\n"
   ]
  }
 ],
 "metadata": {
  "kernelspec": {
   "display_name": "Python 3",
   "language": "python",
   "name": "python3"
  },
  "language_info": {
   "codemirror_mode": {
    "name": "ipython",
    "version": 3
   },
   "file_extension": ".py",
   "mimetype": "text/x-python",
   "name": "python",
   "nbconvert_exporter": "python",
   "pygments_lexer": "ipython3",
   "version": "3.12.1"
  }
 },
 "nbformat": 4,
 "nbformat_minor": 2
}
